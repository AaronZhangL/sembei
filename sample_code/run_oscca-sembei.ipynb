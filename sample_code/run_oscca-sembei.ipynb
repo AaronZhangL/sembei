{
 "cells": [
  {
   "cell_type": "markdown",
   "metadata": {},
   "source": [
    "# Sample"
   ]
  },
  {
   "cell_type": "code",
   "execution_count": 1,
   "metadata": {
    "ExecuteTime": {
     "end_time": "2017-03-19T23:43:19.658568",
     "start_time": "2017-03-19T23:43:15.474810"
    },
    "collapsed": false
   },
   "outputs": [],
   "source": [
    "import pandas as pd\n",
    "import matplotlib.pyplot as plt\n",
    "\n",
    "import matplotlib\n",
    "matplotlib.style.use('ggplot')\n",
    "matplotlib.rc('font', family=['IPAexGothic'])\n",
    "%matplotlib inline\n",
    "\n",
    "import sembei as sb"
   ]
  },
  {
   "cell_type": "markdown",
   "metadata": {},
   "source": [
    "## Setting"
   ]
  },
  {
   "cell_type": "code",
   "execution_count": 2,
   "metadata": {
    "ExecuteTime": {
     "end_time": "2017-03-19T23:43:19.827952",
     "start_time": "2017-03-19T23:43:19.661620"
    },
    "collapsed": false
   },
   "outputs": [
    {
     "data": {
      "text/plain": [
       "3952451"
      ]
     },
     "execution_count": 2,
     "metadata": {},
     "output_type": "execute_result"
    }
   ],
   "source": [
    "with open('./jawiki-latest-pages-articles_text_10M.txt',\n",
    "          mode='r', encoding='utf-8', errors='ignore') as f:\n",
    "    corpus_str = ''.join(line.replace('\\n', ' ') for line in f.readlines())\n",
    "\n",
    "len(corpus_str)"
   ]
  },
  {
   "cell_type": "code",
   "execution_count": 3,
   "metadata": {
    "ExecuteTime": {
     "end_time": "2017-03-19T23:43:19.833026",
     "start_time": "2017-03-19T23:43:19.829591"
    },
    "collapsed": false
   },
   "outputs": [
    {
     "data": {
      "text/plain": [
       "'別については、平安時代末期にはすでにいずれもの音となり発音上の区別が無くなっていたことにより、相当な表記の揺れがあり、格助詞の「を」を除き前例による基準を見出すことができなかった。そこで『下官集』では'"
      ]
     },
     "execution_count": 3,
     "metadata": {},
     "output_type": "execute_result"
    }
   ],
   "source": [
    "corpus_str[100000:100100]"
   ]
  },
  {
   "cell_type": "code",
   "execution_count": 4,
   "metadata": {
    "ExecuteTime": {
     "end_time": "2017-03-19T23:43:24.768111",
     "start_time": "2017-03-19T23:43:19.834543"
    },
    "collapsed": false
   },
   "outputs": [
    {
     "name": "stdout",
     "output_type": "stream",
     "text": [
      "min count   : ('耀', 5) 0\n",
      "# of 1-gram : 4295\n",
      "Coverage    : 0.9993060002514895\n",
      "\n",
      "min count   : ('・決', 2) 0\n",
      "# of 2-gram : 208807\n",
      "Coverage    : 0.9672782787186989\n",
      "\n",
      "min count   : ('沖縄タ', 5) 0\n",
      "# of 3-gram : 930381\n",
      "Coverage    : 0.6883371862168564\n",
      "\n",
      "min count   : ('Guid', 5) 0\n",
      "# of 4-gram : 1738573\n",
      "Coverage    : 0.47033549562031257\n",
      "\n",
      "min count   : ('ログ） *', 4) 0\n",
      "# of 5-gram : 2355014\n",
      "Coverage    : 0.33733119019059316\n",
      "\n",
      "min count   : ('公表を開始 *', 13) 0\n",
      "# of 7-gram : 3095326\n",
      "Coverage    : 0.08868623545238132\n",
      "\n",
      "min count   : ('イムレンジャ', 4) 0\n",
      "# of 6-gram : 2793533\n",
      "Coverage    : 0.22495332642960025\n",
      "\n",
      "min count   : ('1960年代から', 10) 0\n",
      "# of 8-gram : 3304594\n",
      "Coverage    : 0.0692668928722962\n",
      "\n",
      "CPU times: user 225 ms, sys: 129 ms, total: 354 ms\n",
      "Wall time: 4.92 s\n"
     ]
    }
   ],
   "source": [
    "%%time\n",
    "n_extract_tuple = [(1, 3000), (2, 100000), (3, 100000), (4, 100000), (5, 100000),\n",
    "                   (6, 70000), (7, 10000), (8, 10000)]\n",
    "\n",
    "vocabulary = sb.utils.ngram.extract_topn_ngram_lossycounting(\n",
    "    corpus_str, width_ngram=len(n_extract_tuple), n_extract_tuple=n_extract_tuple,\n",
    "    epsilon=1e-7, support_threshold=1e-7, n_processes=20)\n",
    "    \n",
    "size_vocabulary = len(vocabulary)"
   ]
  },
  {
   "cell_type": "markdown",
   "metadata": {},
   "source": [
    "## Calculate"
   ]
  },
  {
   "cell_type": "code",
   "execution_count": 5,
   "metadata": {
    "ExecuteTime": {
     "end_time": "2017-03-19T23:43:24.989556",
     "start_time": "2017-03-19T23:43:24.770535"
    },
    "collapsed": false,
    "scrolled": true
   },
   "outputs": [],
   "source": [
    "sembei = sb.embed.OSCCASembei(corpus_str, vocabulary, dim=200, n_iter_rsvd=6)"
   ]
  },
  {
   "cell_type": "code",
   "execution_count": 6,
   "metadata": {
    "ExecuteTime": {
     "end_time": "2017-03-19T23:43:59.147062",
     "start_time": "2017-03-19T23:43:24.991303"
    },
    "collapsed": false,
    "scrolled": true
   },
   "outputs": [
    {
     "name": "stdout",
     "output_type": "stream",
     "text": [
      "CPU times: user 7.83 s, sys: 2.85 s, total: 10.7 s\n",
      "Wall time: 34.2 s\n"
     ]
    }
   ],
   "source": [
    "%%time\n",
    "sembei.construct_cooccurrence_matrix(n_cores=4, n_chunk=20)"
   ]
  },
  {
   "cell_type": "code",
   "execution_count": 7,
   "metadata": {
    "ExecuteTime": {
     "end_time": "2017-03-19T23:47:07.725875",
     "start_time": "2017-03-19T23:43:59.148961"
    },
    "collapsed": false,
    "scrolled": true
   },
   "outputs": [
    {
     "name": "stdout",
     "output_type": "stream",
     "text": [
      "CPU times: user 6min 37s, sys: 30.5 s, total: 7min 7s\n",
      "Wall time: 3min 8s\n"
     ]
    }
   ],
   "source": [
    "%%time\n",
    "sembei.compute()"
   ]
  },
  {
   "cell_type": "code",
   "execution_count": 8,
   "metadata": {
    "ExecuteTime": {
     "end_time": "2017-03-19T23:47:08.972002",
     "start_time": "2017-03-19T23:47:07.727801"
    },
    "collapsed": false
   },
   "outputs": [
    {
     "data": {
      "image/png": "[encoded data removed]",
      "text/plain": [
       "<matplotlib.figure.Figure at 0x7f08dff29c88>"
      ]
     },
     "metadata": {},
     "output_type": "display_data"
    }
   ],
   "source": [
    "plt.plot(sembei.S_diag, 'bx')\n",
    "plt.xlim(-2, )\n",
    "plt.yscale('log')\n",
    "plt.xlabel('$i$')\n",
    "plt.ylabel('$i$-th singular value')\n",
    "plt.show()"
   ]
  },
  {
   "cell_type": "markdown",
   "metadata": {},
   "source": [
    "## Check"
   ]
  },
  {
   "cell_type": "code",
   "execution_count": 9,
   "metadata": {
    "ExecuteTime": {
     "end_time": "2017-03-19T23:47:10.727707",
     "start_time": "2017-03-19T23:47:08.973987"
    },
    "collapsed": false
   },
   "outputs": [
    {
     "data": {
      "text/html": [
       "<div>\n",
       "<table border=\"1\" class=\"dataframe\">\n",
       "  <thead>\n",
       "    <tr style=\"text-align: right;\">\n",
       "      <th></th>\n",
       "      <th>0</th>\n",
       "      <th>1</th>\n",
       "      <th>2</th>\n",
       "      <th>3</th>\n",
       "      <th>4</th>\n",
       "      <th>5</th>\n",
       "      <th>6</th>\n",
       "      <th>7</th>\n",
       "      <th>8</th>\n",
       "      <th>9</th>\n",
       "      <th>...</th>\n",
       "      <th>190</th>\n",
       "      <th>191</th>\n",
       "      <th>192</th>\n",
       "      <th>193</th>\n",
       "      <th>194</th>\n",
       "      <th>195</th>\n",
       "      <th>196</th>\n",
       "      <th>197</th>\n",
       "      <th>198</th>\n",
       "      <th>199</th>\n",
       "    </tr>\n",
       "  </thead>\n",
       "  <tbody>\n",
       "    <tr>\n",
       "      <th>基づいている</th>\n",
       "      <td>0.054704</td>\n",
       "      <td>-0.067880</td>\n",
       "      <td>-0.087566</td>\n",
       "      <td>0.043233</td>\n",
       "      <td>0.051782</td>\n",
       "      <td>0.087938</td>\n",
       "      <td>0.111173</td>\n",
       "      <td>0.072952</td>\n",
       "      <td>-0.075456</td>\n",
       "      <td>-0.057049</td>\n",
       "      <td>...</td>\n",
       "      <td>-0.044341</td>\n",
       "      <td>-0.006559</td>\n",
       "      <td>0.067202</td>\n",
       "      <td>0.084328</td>\n",
       "      <td>-0.030647</td>\n",
       "      <td>-0.096792</td>\n",
       "      <td>0.034366</td>\n",
       "      <td>0.023641</td>\n",
       "      <td>-0.001023</td>\n",
       "      <td>-0.073348</td>\n",
       "    </tr>\n",
       "    <tr>\n",
       "      <th>正三</th>\n",
       "      <td>0.043821</td>\n",
       "      <td>0.023388</td>\n",
       "      <td>0.010221</td>\n",
       "      <td>-0.025609</td>\n",
       "      <td>0.079967</td>\n",
       "      <td>-0.006057</td>\n",
       "      <td>0.045861</td>\n",
       "      <td>-0.002328</td>\n",
       "      <td>0.056907</td>\n",
       "      <td>-0.069806</td>\n",
       "      <td>...</td>\n",
       "      <td>0.016648</td>\n",
       "      <td>0.069813</td>\n",
       "      <td>-0.013927</td>\n",
       "      <td>-0.040154</td>\n",
       "      <td>-0.022516</td>\n",
       "      <td>-0.028196</td>\n",
       "      <td>-0.109250</td>\n",
       "      <td>0.031436</td>\n",
       "      <td>-0.069478</td>\n",
       "      <td>-0.006784</td>\n",
       "    </tr>\n",
       "    <tr>\n",
       "      <th>0年6月）</th>\n",
       "      <td>0.062161</td>\n",
       "      <td>0.122454</td>\n",
       "      <td>0.013084</td>\n",
       "      <td>0.048662</td>\n",
       "      <td>0.152097</td>\n",
       "      <td>-0.070306</td>\n",
       "      <td>0.154414</td>\n",
       "      <td>-0.040044</td>\n",
       "      <td>0.067062</td>\n",
       "      <td>0.052408</td>\n",
       "      <td>...</td>\n",
       "      <td>0.022715</td>\n",
       "      <td>0.038211</td>\n",
       "      <td>-0.040465</td>\n",
       "      <td>-0.022718</td>\n",
       "      <td>-0.078430</td>\n",
       "      <td>0.037456</td>\n",
       "      <td>0.029735</td>\n",
       "      <td>0.034036</td>\n",
       "      <td>-0.035126</td>\n",
       "      <td>0.140282</td>\n",
       "    </tr>\n",
       "    <tr>\n",
       "      <th>波は</th>\n",
       "      <td>0.143882</td>\n",
       "      <td>-0.033923</td>\n",
       "      <td>0.025305</td>\n",
       "      <td>0.165303</td>\n",
       "      <td>-0.036381</td>\n",
       "      <td>-0.055022</td>\n",
       "      <td>-0.114447</td>\n",
       "      <td>0.069635</td>\n",
       "      <td>-0.034288</td>\n",
       "      <td>0.131976</td>\n",
       "      <td>...</td>\n",
       "      <td>-0.013569</td>\n",
       "      <td>-0.063530</td>\n",
       "      <td>-0.204117</td>\n",
       "      <td>-0.109950</td>\n",
       "      <td>-0.047632</td>\n",
       "      <td>0.028607</td>\n",
       "      <td>0.039941</td>\n",
       "      <td>0.065850</td>\n",
       "      <td>0.008453</td>\n",
       "      <td>0.099755</td>\n",
       "    </tr>\n",
       "    <tr>\n",
       "      <th>王子</th>\n",
       "      <td>0.072572</td>\n",
       "      <td>-0.003428</td>\n",
       "      <td>0.049157</td>\n",
       "      <td>-0.041137</td>\n",
       "      <td>0.058480</td>\n",
       "      <td>-0.024235</td>\n",
       "      <td>-0.016446</td>\n",
       "      <td>-0.033670</td>\n",
       "      <td>0.061010</td>\n",
       "      <td>-0.056158</td>\n",
       "      <td>...</td>\n",
       "      <td>-0.031038</td>\n",
       "      <td>0.000184</td>\n",
       "      <td>-0.015543</td>\n",
       "      <td>-0.022099</td>\n",
       "      <td>-0.011599</td>\n",
       "      <td>-0.057175</td>\n",
       "      <td>0.032860</td>\n",
       "      <td>-0.082763</td>\n",
       "      <td>-0.010914</td>\n",
       "      <td>0.003964</td>\n",
       "    </tr>\n",
       "    <tr>\n",
       "      <th>== バス事</th>\n",
       "      <td>0.023695</td>\n",
       "      <td>0.008994</td>\n",
       "      <td>0.078040</td>\n",
       "      <td>-0.067551</td>\n",
       "      <td>-0.049506</td>\n",
       "      <td>0.013255</td>\n",
       "      <td>0.128988</td>\n",
       "      <td>-0.015363</td>\n",
       "      <td>0.005842</td>\n",
       "      <td>0.010619</td>\n",
       "      <td>...</td>\n",
       "      <td>-0.040883</td>\n",
       "      <td>0.169018</td>\n",
       "      <td>0.030562</td>\n",
       "      <td>0.002296</td>\n",
       "      <td>-0.008625</td>\n",
       "      <td>0.070213</td>\n",
       "      <td>-0.093299</td>\n",
       "      <td>-0.121452</td>\n",
       "      <td>0.065989</td>\n",
       "      <td>-0.061125</td>\n",
       "    </tr>\n",
       "    <tr>\n",
       "      <th>2001年）</th>\n",
       "      <td>0.038116</td>\n",
       "      <td>0.037003</td>\n",
       "      <td>0.029144</td>\n",
       "      <td>-0.033499</td>\n",
       "      <td>0.039779</td>\n",
       "      <td>0.000410</td>\n",
       "      <td>0.029987</td>\n",
       "      <td>0.013530</td>\n",
       "      <td>-0.011279</td>\n",
       "      <td>-0.042056</td>\n",
       "      <td>...</td>\n",
       "      <td>-0.085882</td>\n",
       "      <td>0.013481</td>\n",
       "      <td>0.058234</td>\n",
       "      <td>0.059512</td>\n",
       "      <td>-0.080393</td>\n",
       "      <td>-0.002013</td>\n",
       "      <td>0.005200</td>\n",
       "      <td>-0.014789</td>\n",
       "      <td>0.064666</td>\n",
       "      <td>-0.055128</td>\n",
       "    </tr>\n",
       "    <tr>\n",
       "      <th>'''劇場公</th>\n",
       "      <td>0.034320</td>\n",
       "      <td>0.021942</td>\n",
       "      <td>0.024629</td>\n",
       "      <td>-0.090937</td>\n",
       "      <td>-0.049937</td>\n",
       "      <td>0.020064</td>\n",
       "      <td>-0.004139</td>\n",
       "      <td>-0.001560</td>\n",
       "      <td>-0.128874</td>\n",
       "      <td>0.043874</td>\n",
       "      <td>...</td>\n",
       "      <td>0.002966</td>\n",
       "      <td>0.000532</td>\n",
       "      <td>-0.060043</td>\n",
       "      <td>-0.062188</td>\n",
       "      <td>0.012860</td>\n",
       "      <td>-0.044019</td>\n",
       "      <td>0.028857</td>\n",
       "      <td>-0.043177</td>\n",
       "      <td>-0.021291</td>\n",
       "      <td>-0.018483</td>\n",
       "    </tr>\n",
       "    <tr>\n",
       "      <th>ph The</th>\n",
       "      <td>0.014827</td>\n",
       "      <td>0.020440</td>\n",
       "      <td>0.052042</td>\n",
       "      <td>-0.055779</td>\n",
       "      <td>0.204263</td>\n",
       "      <td>0.210427</td>\n",
       "      <td>-0.137438</td>\n",
       "      <td>-0.001368</td>\n",
       "      <td>0.031673</td>\n",
       "      <td>0.038355</td>\n",
       "      <td>...</td>\n",
       "      <td>0.060240</td>\n",
       "      <td>0.004052</td>\n",
       "      <td>0.008464</td>\n",
       "      <td>0.059455</td>\n",
       "      <td>0.056707</td>\n",
       "      <td>-0.013219</td>\n",
       "      <td>0.048999</td>\n",
       "      <td>-0.034431</td>\n",
       "      <td>0.018664</td>\n",
       "      <td>-0.083918</td>\n",
       "    </tr>\n",
       "    <tr>\n",
       "      <th>いう説もあ</th>\n",
       "      <td>0.023762</td>\n",
       "      <td>-0.041936</td>\n",
       "      <td>-0.049508</td>\n",
       "      <td>0.043593</td>\n",
       "      <td>-0.022418</td>\n",
       "      <td>0.125554</td>\n",
       "      <td>0.057235</td>\n",
       "      <td>-0.207960</td>\n",
       "      <td>-0.092605</td>\n",
       "      <td>-0.057950</td>\n",
       "      <td>...</td>\n",
       "      <td>-0.068563</td>\n",
       "      <td>0.175867</td>\n",
       "      <td>-0.115715</td>\n",
       "      <td>-0.014883</td>\n",
       "      <td>-0.086160</td>\n",
       "      <td>-0.088419</td>\n",
       "      <td>-0.051677</td>\n",
       "      <td>-0.027776</td>\n",
       "      <td>0.051820</td>\n",
       "      <td>-0.020890</td>\n",
       "    </tr>\n",
       "  </tbody>\n",
       "</table>\n",
       "<p>10 rows × 200 columns</p>\n",
       "</div>"
      ],
      "text/plain": [
       "              0         1         2         3         4         5         6    \\\n",
       "基づいている   0.054704 -0.067880 -0.087566  0.043233  0.051782  0.087938  0.111173   \n",
       "正三       0.043821  0.023388  0.010221 -0.025609  0.079967 -0.006057  0.045861   \n",
       "0年6月）    0.062161  0.122454  0.013084  0.048662  0.152097 -0.070306  0.154414   \n",
       "波は       0.143882 -0.033923  0.025305  0.165303 -0.036381 -0.055022 -0.114447   \n",
       "王子       0.072572 -0.003428  0.049157 -0.041137  0.058480 -0.024235 -0.016446   \n",
       "== バス事   0.023695  0.008994  0.078040 -0.067551 -0.049506  0.013255  0.128988   \n",
       " 2001年）  0.038116  0.037003  0.029144 -0.033499  0.039779  0.000410  0.029987   \n",
       "'''劇場公   0.034320  0.021942  0.024629 -0.090937 -0.049937  0.020064 -0.004139   \n",
       "ph The   0.014827  0.020440  0.052042 -0.055779  0.204263  0.210427 -0.137438   \n",
       "いう説もあ    0.023762 -0.041936 -0.049508  0.043593 -0.022418  0.125554  0.057235   \n",
       "\n",
       "              7         8         9      ...          190       191       192  \\\n",
       "基づいている   0.072952 -0.075456 -0.057049    ...    -0.044341 -0.006559  0.067202   \n",
       "正三      -0.002328  0.056907 -0.069806    ...     0.016648  0.069813 -0.013927   \n",
       "0年6月）   -0.040044  0.067062  0.052408    ...     0.022715  0.038211 -0.040465   \n",
       "波は       0.069635 -0.034288  0.131976    ...    -0.013569 -0.063530 -0.204117   \n",
       "王子      -0.033670  0.061010 -0.056158    ...    -0.031038  0.000184 -0.015543   \n",
       "== バス事  -0.015363  0.005842  0.010619    ...    -0.040883  0.169018  0.030562   \n",
       " 2001年）  0.013530 -0.011279 -0.042056    ...    -0.085882  0.013481  0.058234   \n",
       "'''劇場公  -0.001560 -0.128874  0.043874    ...     0.002966  0.000532 -0.060043   \n",
       "ph The  -0.001368  0.031673  0.038355    ...     0.060240  0.004052  0.008464   \n",
       "いう説もあ   -0.207960 -0.092605 -0.057950    ...    -0.068563  0.175867 -0.115715   \n",
       "\n",
       "              193       194       195       196       197       198       199  \n",
       "基づいている   0.084328 -0.030647 -0.096792  0.034366  0.023641 -0.001023 -0.073348  \n",
       "正三      -0.040154 -0.022516 -0.028196 -0.109250  0.031436 -0.069478 -0.006784  \n",
       "0年6月）   -0.022718 -0.078430  0.037456  0.029735  0.034036 -0.035126  0.140282  \n",
       "波は      -0.109950 -0.047632  0.028607  0.039941  0.065850  0.008453  0.099755  \n",
       "王子      -0.022099 -0.011599 -0.057175  0.032860 -0.082763 -0.010914  0.003964  \n",
       "== バス事   0.002296 -0.008625  0.070213 -0.093299 -0.121452  0.065989 -0.061125  \n",
       " 2001年）  0.059512 -0.080393 -0.002013  0.005200 -0.014789  0.064666 -0.055128  \n",
       "'''劇場公  -0.062188  0.012860 -0.044019  0.028857 -0.043177 -0.021291 -0.018483  \n",
       "ph The   0.059455  0.056707 -0.013219  0.048999 -0.034431  0.018664 -0.083918  \n",
       "いう説もあ   -0.014883 -0.086160 -0.088419 -0.051677 -0.027776  0.051820 -0.020890  \n",
       "\n",
       "[10 rows x 200 columns]"
      ]
     },
     "execution_count": 9,
     "metadata": {},
     "output_type": "execute_result"
    }
   ],
   "source": [
    "vectors = sembei.get_vectors(gamma=1e-6)\n",
    "vectors.sample(n=10)"
   ]
  },
  {
   "cell_type": "code",
   "execution_count": 10,
   "metadata": {
    "ExecuteTime": {
     "end_time": "2017-03-19T23:47:13.707274",
     "start_time": "2017-03-19T23:47:10.729230"
    },
    "collapsed": false
   },
   "outputs": [
    {
     "data": {
      "text/html": [
       "<div>\n",
       "<table border=\"1\" class=\"dataframe\">\n",
       "  <thead>\n",
       "    <tr style=\"text-align: right;\">\n",
       "      <th></th>\n",
       "      <th>2017</th>\n",
       "      <th>しない</th>\n",
       "      <th>を</th>\n",
       "      <th>処理</th>\n",
       "      <th>分割</th>\n",
       "      <th>単語</th>\n",
       "      <th>埋め</th>\n",
       "      <th>学会</th>\n",
       "      <th>経由</th>\n",
       "      <th>言語</th>\n",
       "      <th>込み</th>\n",
       "    </tr>\n",
       "  </thead>\n",
       "  <tbody>\n",
       "    <tr>\n",
       "      <th>0</th>\n",
       "      <td>」、1996</td>\n",
       "      <td>していない</td>\n",
       "      <td>勢を</td>\n",
       "      <td>計算</td>\n",
       "      <td>転用</td>\n",
       "      <td>慣習</td>\n",
       "      <td>作り上げ</td>\n",
       "      <td>社会学</td>\n",
       "      <td>準用</td>\n",
       "      <td>文字</td>\n",
       "      <td>合い</td>\n",
       "    </tr>\n",
       "    <tr>\n",
       "      <th>1</th>\n",
       "      <td>永7</td>\n",
       "      <td>していく</td>\n",
       "      <td>堂入りを</td>\n",
       "      <td>解析</td>\n",
       "      <td>よってプレイ</td>\n",
       "      <td>語彙</td>\n",
       "      <td>見つけ</td>\n",
       "      <td>工学</td>\n",
       "      <td>ベースと</td>\n",
       "      <td>文法</td>\n",
       "      <td>り込み</td>\n",
       "    </tr>\n",
       "    <tr>\n",
       "      <th>2</th>\n",
       "      <td>の2003</td>\n",
       "      <td>さない</td>\n",
       "      <td>などを</td>\n",
       "      <td>入力</td>\n",
       "      <td>変更</td>\n",
       "      <td>数字</td>\n",
       "      <td>覚え</td>\n",
       "      <td>会学</td>\n",
       "      <td>発行エリアと</td>\n",
       "      <td>理論</td>\n",
       "      <td>果</td>\n",
       "    </tr>\n",
       "    <tr>\n",
       "      <th>3</th>\n",
       "      <td>の2008</td>\n",
       "      <td>してゆく</td>\n",
       "      <td>）を</td>\n",
       "      <td>算</td>\n",
       "      <td>売却</td>\n",
       "      <td>語順</td>\n",
       "      <td>変え</td>\n",
       "      <td>学史</td>\n",
       "      <td>はじめと</td>\n",
       "      <td>民族</td>\n",
       "      <td>払い</td>\n",
       "    </tr>\n",
       "    <tr>\n",
       "      <th>4</th>\n",
       "      <td>D：2003</td>\n",
       "      <td>する</td>\n",
       "      <td>威を</td>\n",
       "      <td>認識</td>\n",
       "      <td>恒常的に設置</td>\n",
       "      <td>言葉</td>\n",
       "      <td>仕上げ</td>\n",
       "      <td>科学</td>\n",
       "      <td>逸ら</td>\n",
       "      <td>字</td>\n",
       "      <td>し木</td>\n",
       "    </tr>\n",
       "    <tr>\n",
       "      <th>5</th>\n",
       "      <td>（1985</td>\n",
       "      <td>してしまう</td>\n",
       "      <td>の変更を</td>\n",
       "      <td>操作</td>\n",
       "      <td>起用</td>\n",
       "      <td>文字</td>\n",
       "      <td>支え</td>\n",
       "      <td>学者）</td>\n",
       "      <td>震源と</td>\n",
       "      <td>法</td>\n",
       "      <td>やすさ</td>\n",
       "    </tr>\n",
       "    <tr>\n",
       "      <th>6</th>\n",
       "      <td>VD：2003</td>\n",
       "      <td>し続ける</td>\n",
       "      <td>突を</td>\n",
       "      <td>記憶</td>\n",
       "      <td>統合</td>\n",
       "      <td>意見</td>\n",
       "      <td>考えてみ</td>\n",
       "      <td>人類学</td>\n",
       "      <td>対象エリアと</td>\n",
       "      <td>語の意味</td>\n",
       "      <td>え子</td>\n",
       "    </tr>\n",
       "    <tr>\n",
       "      <th>7</th>\n",
       "      <td>が2009</td>\n",
       "      <td>してきた</td>\n",
       "      <td>感を</td>\n",
       "      <td>表現</td>\n",
       "      <td>固定</td>\n",
       "      <td>観念</td>\n",
       "      <td>決め</td>\n",
       "      <td>医学</td>\n",
       "      <td>加味</td>\n",
       "      <td>質</td>\n",
       "      <td>がり</td>\n",
       "    </tr>\n",
       "    <tr>\n",
       "      <th>8</th>\n",
       "      <td>〜（2012</td>\n",
       "      <td>しやすい</td>\n",
       "      <td>序を</td>\n",
       "      <td>観測</td>\n",
       "      <td>設置</td>\n",
       "      <td>文法</td>\n",
       "      <td>切り替え</td>\n",
       "      <td>学）</td>\n",
       "      <td>始めと</td>\n",
       "      <td>音</td>\n",
       "      <td>ばそれ</td>\n",
       "    </tr>\n",
       "    <tr>\n",
       "      <th>9</th>\n",
       "      <td>!（2000</td>\n",
       "      <td>していなかった</td>\n",
       "      <td>働を</td>\n",
       "      <td>識</td>\n",
       "      <td>二分</td>\n",
       "      <td>規則</td>\n",
       "      <td>乗り越え</td>\n",
       "      <td>経済学</td>\n",
       "      <td>母語と</td>\n",
       "      <td>思想</td>\n",
       "      <td>え方の違い</td>\n",
       "    </tr>\n",
       "  </tbody>\n",
       "</table>\n",
       "</div>"
      ],
      "text/plain": [
       "      2017      しない     を  処理      分割  単語    埋め   学会      経由    言語     込み\n",
       "0   」、1996    していない    勢を  計算      転用  慣習  作り上げ  社会学      準用    文字     合い\n",
       "1       永7     していく  堂入りを  解析  よってプレイ  語彙   見つけ   工学    ベースと    文法    り込み\n",
       "2    の2003      さない   などを  入力      変更  数字    覚え   会学  発行エリアと    理論      果\n",
       "3    の2008     してゆく    ）を   算      売却  語順    変え   学史    はじめと    民族     払い\n",
       "4   D：2003       する    威を  認識  恒常的に設置  言葉   仕上げ   科学      逸ら     字     し木\n",
       "5   　（1985    してしまう  の変更を  操作      起用  文字    支え  学者）     震源と     法    やすさ\n",
       "6  VD：2003     し続ける    突を  記憶      統合  意見  考えてみ  人類学  対象エリアと  語の意味     え子\n",
       "7    が2009     してきた    感を  表現      固定  観念    決め   医学      加味     質     がり\n",
       "8   〜（2012     しやすい    序を  観測      設置  文法  切り替え   学）     始めと     音    ばそれ\n",
       "9   !（2000  していなかった    働を   識      二分  規則  乗り越え  経済学     母語と    思想  え方の違い"
      ]
     },
     "execution_count": 10,
     "metadata": {},
     "output_type": "execute_result"
    }
   ],
   "source": [
    "query_list = '単語 分割 を 経由 しない 埋め 込み 言語 処理 学会 2017'.split(' ')\n",
    "sb.utils.show.get_topn_df(sembei, query_list)"
   ]
  },
  {
   "cell_type": "code",
   "execution_count": null,
   "metadata": {
    "collapsed": true
   },
   "outputs": [],
   "source": []
  }
 ],
 "metadata": {
  "anaconda-cloud": {},
  "kernelspec": {
   "display_name": "anaconda3-4.2.0_oshikiri",
   "language": "python",
   "name": "anaconda3-4.2.0_oshikiri"
  },
  "language_info": {
   "codemirror_mode": {
    "name": "ipython",
    "version": 3
   },
   "file_extension": ".py",
   "mimetype": "text/x-python",
   "name": "python",
   "nbconvert_exporter": "python",
   "pygments_lexer": "ipython3",
   "version": "3.5.2"
  },
  "nav_menu": {},
  "toc": {
   "navigate_menu": true,
   "number_sections": false,
   "sideBar": true,
   "threshold": 6,
   "toc_cell": false,
   "toc_section_display": "block",
   "toc_window_display": true
  },
  "toc_position": {
   "height": "572px",
   "left": "0px",
   "right": "1107px",
   "top": "106px",
   "width": "212px"
  }
 },
 "nbformat": 4,
 "nbformat_minor": 0
}
